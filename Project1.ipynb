{
  "nbformat": 4,
  "nbformat_minor": 0,
  "metadata": {
    "colab": {
      "name": "Project1",
      "provenance": [],
      "collapsed_sections": []
    },
    "kernelspec": {
      "name": "python3",
      "display_name": "Python 3"
    }
  },
  "cells": [
    {
      "cell_type": "code",
      "metadata": {
        "id": "kZRkSW57H7Y7"
      },
      "source": [
        "import tensorflow as tf\r\n",
        "from tensorflow import keras\r\n",
        "from tensorflow.keras.models import Sequential\r\n",
        "from tensorflow.keras.layers import Input, Dense\r\n",
        "import numpy as np\r\n",
        "from keras.utils import np_utils\r\n"
      ],
      "execution_count": 58,
      "outputs": []
    },
    {
      "cell_type": "code",
      "metadata": {
        "id": "_MQw4_ySKXcT"
      },
      "source": [
        "from keras.datasets import fashion_mnist\r\n",
        "data = fashion_mnist.load_data()\r\n"
      ],
      "execution_count": 49,
      "outputs": []
    },
    {
      "cell_type": "code",
      "metadata": {
        "id": "YabTxBQ1KpHl"
      },
      "source": [
        "(X_train, y_train), (X_test, y_test) = fashion_mnist.load_data()\r\n"
      ],
      "execution_count": 50,
      "outputs": []
    },
    {
      "cell_type": "code",
      "metadata": {
        "id": "qrdSvzUilb3-"
      },
      "source": [
        "X_train = X_train.reshape((X_train.shape[0], 28*28))\r\n",
        "X_test = X_test.reshape((X_test.shape[0], 28*28))"
      ],
      "execution_count": 51,
      "outputs": []
    },
    {
      "cell_type": "code",
      "metadata": {
        "id": "PFYnMi-Dkh6S"
      },
      "source": [
        "X_train = X_train / 255.0\r\n",
        "X_test = X_test / 255.0\r\n"
      ],
      "execution_count": 52,
      "outputs": []
    },
    {
      "cell_type": "code",
      "metadata": {
        "id": "SY83aAVosdak"
      },
      "source": [
        "y_train = np_utils.to_categorical(y_train)\r\n",
        "y_test = np_utils.to_categorical(y_test)"
      ],
      "execution_count": 59,
      "outputs": []
    },
    {
      "cell_type": "code",
      "metadata": {
        "id": "KOtW6GFSlj1C"
      },
      "source": [
        "model = Sequential()\r\n",
        "model.add(Dense(128,input_dim = 28*28, activation='relu'))\r\n",
        "model.add(Dense(128, activation='relu'))\r\n",
        "model.add(Dense(128, activation='relu'))\r\n",
        "model.add(Dense(128, activation='relu'))\r\n",
        "model.add(Dense(128, activation='relu'))\r\n",
        "model.add(Dense(128, activation='relu'))\r\n",
        "model.add(Dense(10, activation='softmax'))  \r\n"
      ],
      "execution_count": 66,
      "outputs": []
    },
    {
      "cell_type": "code",
      "metadata": {
        "id": "M89t59LFpQQz"
      },
      "source": [
        "model.compile(loss='categorical_crossentropy', optimizer='adam', metrics=['accuracy'])"
      ],
      "execution_count": 67,
      "outputs": []
    },
    {
      "cell_type": "code",
      "metadata": {
        "colab": {
          "base_uri": "https://localhost:8080/"
        },
        "id": "nBTNid27pVsM",
        "outputId": "4bdfc6e9-b68e-426f-9735-322c55d336aa"
      },
      "source": [
        "model.summary()\r\n"
      ],
      "execution_count": 68,
      "outputs": [
        {
          "output_type": "stream",
          "text": [
            "Model: \"sequential_11\"\n",
            "_________________________________________________________________\n",
            "Layer (type)                 Output Shape              Param #   \n",
            "=================================================================\n",
            "dense_53 (Dense)             (None, 128)               100480    \n",
            "_________________________________________________________________\n",
            "dense_54 (Dense)             (None, 128)               16512     \n",
            "_________________________________________________________________\n",
            "dense_55 (Dense)             (None, 128)               16512     \n",
            "_________________________________________________________________\n",
            "dense_56 (Dense)             (None, 128)               16512     \n",
            "_________________________________________________________________\n",
            "dense_57 (Dense)             (None, 128)               16512     \n",
            "_________________________________________________________________\n",
            "dense_58 (Dense)             (None, 128)               16512     \n",
            "_________________________________________________________________\n",
            "dense_59 (Dense)             (None, 10)                1290      \n",
            "=================================================================\n",
            "Total params: 184,330\n",
            "Trainable params: 184,330\n",
            "Non-trainable params: 0\n",
            "_________________________________________________________________\n"
          ],
          "name": "stdout"
        }
      ]
    },
    {
      "cell_type": "code",
      "metadata": {
        "colab": {
          "base_uri": "https://localhost:8080/"
        },
        "id": "r8ONia4Oq9qz",
        "outputId": "35d8f0dc-fd0c-4621-a73c-77336381c991"
      },
      "source": [
        "model.fit(X_train, y_train, validation_split=0.2 , epochs=5)\r\n"
      ],
      "execution_count": 69,
      "outputs": [
        {
          "output_type": "stream",
          "text": [
            "Epoch 1/5\n",
            "1500/1500 [==============================] - 5s 3ms/step - loss: 0.7243 - accuracy: 0.7282 - val_loss: 0.4767 - val_accuracy: 0.8316\n",
            "Epoch 2/5\n",
            "1500/1500 [==============================] - 5s 3ms/step - loss: 0.4062 - accuracy: 0.8536 - val_loss: 0.3984 - val_accuracy: 0.8622\n",
            "Epoch 3/5\n",
            "1500/1500 [==============================] - 5s 3ms/step - loss: 0.3545 - accuracy: 0.8698 - val_loss: 0.3800 - val_accuracy: 0.8691\n",
            "Epoch 4/5\n",
            "1500/1500 [==============================] - 5s 3ms/step - loss: 0.3342 - accuracy: 0.8773 - val_loss: 0.3897 - val_accuracy: 0.8675\n",
            "Epoch 5/5\n",
            "1500/1500 [==============================] - 4s 3ms/step - loss: 0.3179 - accuracy: 0.8858 - val_loss: 0.3632 - val_accuracy: 0.8683\n"
          ],
          "name": "stdout"
        },
        {
          "output_type": "execute_result",
          "data": {
            "text/plain": [
              "<tensorflow.python.keras.callbacks.History at 0x7f912f1d6278>"
            ]
          },
          "metadata": {
            "tags": []
          },
          "execution_count": 69
        }
      ]
    },
    {
      "cell_type": "code",
      "metadata": {
        "colab": {
          "base_uri": "https://localhost:8080/"
        },
        "id": "UATzHEvitBLa",
        "outputId": "e5a3bc43-e22c-42d0-b899-7c159ea1b495"
      },
      "source": [
        "\r\n",
        "scores = model.evaluate(X_test, y_test)\r\n",
        "print(scores)"
      ],
      "execution_count": 70,
      "outputs": [
        {
          "output_type": "stream",
          "text": [
            "313/313 [==============================] - 1s 2ms/step - loss: 0.3844 - accuracy: 0.8617\n",
            "[0.3844175636768341, 0.8616999983787537]\n"
          ],
          "name": "stdout"
        }
      ]
    }
  ]
}